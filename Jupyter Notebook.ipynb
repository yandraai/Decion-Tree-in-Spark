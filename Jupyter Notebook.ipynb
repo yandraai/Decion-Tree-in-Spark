{
 "cells": [
  {
   "cell_type": "markdown",
   "metadata": {},
   "source": [
    "# Programming Assignment 4B\n",
    "## Decision Tree Classifier Without using API"
   ]
  },
  {
   "cell_type": "markdown",
   "metadata": {},
   "source": [
    "### Data Used: https://archive.ics.uci.edu/ml/datasets/Breast+Cancer+Wisconsin+%28Diagnostic%29/wdbc.data"
   ]
  },
  {
   "cell_type": "markdown",
   "metadata": {},
   "source": [
    "##### Importing Required Libraries"
   ]
  },
  {
   "cell_type": "code",
   "execution_count": 1,
   "metadata": {},
   "outputs": [],
   "source": [
    "import findspark\n",
    "findspark.init()\n",
    "import numpy as np\n",
    "import math\n",
    "import pandas as pd\n",
    "from pyspark import SparkConf, SparkContext\n",
    "from pyspark.mllib.util import MLUtils\n",
    "from pyspark.mllib.regression import LabeledPoint\n",
    "from numpy import array\n",
    "from sklearn.model_selection import train_test_split\n",
    "from sklearn.model_selection import KFold\n",
    "#sc.stop()\n",
    "conf = SparkConf().setMaster(\"local\").setAppName(\"Dc\")\n",
    "sc = SparkContext(conf = conf)"
   ]
  },
  {
   "cell_type": "markdown",
   "metadata": {},
   "source": [
    "## Reading Binned Data Prepared Using Excel VBA as Text file :: Please refer to the script screenshots provided in the zip\n",
    "\n",
    "#### Please note that only the last 10 features are considered for model building : look into section(c) for further details."
   ]
  },
  {
   "cell_type": "code",
   "execution_count": 22,
   "metadata": {},
   "outputs": [
    {
     "name": "stdout",
     "output_type": "stream",
     "text": [
      "Train data size is 569\n"
     ]
    }
   ],
   "source": [
    "raw_data = sc.textFile('New_Data.csv')\n",
    "print(\"Train data size is {}\".format(raw_data.count()))\n",
    "csv_data = raw_data.map(lambda x: x.split(\",\"))"
   ]
  },
  {
   "cell_type": "code",
   "execution_count": 23,
   "metadata": {},
   "outputs": [
    {
     "name": "stdout",
     "output_type": "stream",
     "text": [
      "[['4', '0', '4', '3', '3', '3', '3', '5', '3', '3', '1'], ['4', '1', '3', '2', '2', '0', '1', '4', '1', '1', '1']]\n"
     ]
    }
   ],
   "source": [
    "print(csv_data.take(2))\n"
   ]
  },
  {
   "cell_type": "markdown",
   "metadata": {},
   "source": [
    "## a) Program Code\n",
    "\n",
    "\n",
    "### Splitting the cleaned data into 80:20 ratio of Training and Testing\n"
   ]
  },
  {
   "cell_type": "code",
   "execution_count": 24,
   "metadata": {},
   "outputs": [],
   "source": [
    "(trainingData, testData) = csv_data.randomSplit([0.8, 0.2],seed=200)"
   ]
  },
  {
   "cell_type": "markdown",
   "metadata": {},
   "source": [
    "### STAGE1 : Finding the entropy of the Dataset (E):\n",
    "#### Mapper :-  Key: Class_Column, Value : 1\n",
    "#### Reducer :- Key: Class_ , Value: Count"
   ]
  },
  {
   "cell_type": "code",
   "execution_count": 5,
   "metadata": {},
   "outputs": [
    {
     "data": {
      "text/plain": [
       "[('1', 166), ('0', 301)]"
      ]
     },
     "execution_count": 5,
     "metadata": {},
     "output_type": "execute_result"
    }
   ],
   "source": [
    "mapper_output_1 = trainingData.map(lambda create_labeled_point:(create_labeled_point[10],1))\n",
    "reducer_output_1 = mapper_output_1.reduceByKey(lambda a, b: a + b)\n",
    "\n",
    "\n",
    "reducer_output_1.collect()"
   ]
  },
  {
   "cell_type": "markdown",
   "metadata": {},
   "source": [
    "## Calculating the Entropy as part of controller module:"
   ]
  },
  {
   "cell_type": "code",
   "execution_count": 6,
   "metadata": {},
   "outputs": [
    {
     "name": "stdout",
     "output_type": "stream",
     "text": [
      "0.9388503279146732\n"
     ]
    }
   ],
   "source": [
    "E = -((166/467)*math.log((166/467),2))-((301/467)*math.log((301/467),2))\n",
    "print(E)"
   ]
  },
  {
   "cell_type": "markdown",
   "metadata": {},
   "source": [
    "## STAGE2 : Finding the Best Attribute at Level1:\n",
    "\n",
    "#### Mapper  :- Key: Column_name, Column_Value,Class_Value  Value: 1\n",
    "#### Reducer:- Key: Column_name, Column_Value,Class_Value   Value: Count"
   ]
  },
  {
   "cell_type": "code",
   "execution_count": 9,
   "metadata": {},
   "outputs": [],
   "source": [
    "# Preparing Key\n",
    "def defining_key(line):\n",
    "    send=[]\n",
    "    tail=['']\n",
    "    for i in range(len(line)-1):\n",
    "        s=str(i)+\",\"+line[i]+\",\"+line[10]\n",
    "        send.append(s)\n",
    "                \n",
    "    return send    \n",
    "\n",
    "\n",
    "mapper_output_2 = csv_data.map(lambda create_labeled_point:(create_labeled_point[0:11])).flatMap(defining_key)\n",
    "reducer_output_2= mapper_output_2.map(lambda x: (x, 1)).reduceByKey(lambda x, y: x + y)"
   ]
  },
  {
   "cell_type": "markdown",
   "metadata": {},
   "source": [
    "## Calculation at Controller:\n",
    "\n",
    "### Calculating the Entropy for each attribute as part of controller module: ( Used Pandas)"
   ]
  },
  {
   "cell_type": "code",
   "execution_count": 10,
   "metadata": {},
   "outputs": [],
   "source": [
    "df_reducer_output_2=pd.DataFrame(array(reducer_output_2.collect()))\n",
    "\n",
    "df_reducer_output_2[['Feature','Value','Class']] = df_reducer_output_2[0].str.split(',', expand=True)\n",
    "df_reducer_output_2['key']=df_reducer_output_2['Feature']+\"_\"+df_reducer_output_2['Value']\n"
   ]
  },
  {
   "cell_type": "code",
   "execution_count": 14,
   "metadata": {},
   "outputs": [
    {
     "name": "stdout",
     "output_type": "stream",
     "text": [
      "[[['0_0', 0, 0], ['0_1', 0.39337768346574326, 258], ['0_2', 0.9357110512652843, 108], ['0_3', 0, 1], ['0_4', 0, 1], ['0_5', 0, 1], ['0_6', 0, 1]], [['1_0', 0.345117314944953, 62], ['1_1', 0.5937911148531525, 174], ['1_2', 0.9937811379408326, 194], ['1_3', 0.8846293067903075, 109], ['1_4', 0.9895875212220557, 25], ['1_5', 0, 1], ['1_6', 0, 1]], [['2_0', 0, 0], ['2_1', 0.5107878229540133, 264], ['2_2', 0.6460174789535751, 97], ['2_3', 0, 1], ['2_4', 0, 1], ['2_5', 0, 1], ['2_6', 0, 1]], [['3_0', 0.3315852475960174, 344], ['3_1', 0.8320798182608389, 129], ['3_2', 0, 1], ['3_3', 0, 1], ['3_4', 0, 1], ['3_5', 0, 1], ['3_6', 0, 1]], [['4_0', 0.39124356362925566, 26], ['4_1', 0.6292492238560345, 133], ['4_2', 0.9155841733615835, 248], ['4_3', 0.9536818743463131, 123], ['4_4', 0.7755126581331477, 35], ['4_5', 1.0, 2], ['4_6', 0, 1]], [['5_0', 0.42241914462916946, 233], ['5_1', 0.966177351388351, 204], ['5_2', 0.7131467486384921, 92], ['5_3', 0.37123232664087563, 28], ['5_4', 0, 1], ['5_5', 0, 1], ['5_6', 0, 1]], [['6_0', 0.15695973397993118, 263], ['6_1', 0.9972741777957876, 179], ['6_2', 0.507410963664697, 80], ['6_3', 0.5813214987637028, 36], ['6_4', 0.5435644431995964, 8], ['6_5', 0, 1], ['6_6', 0, 0]], [['7_0', 0.10559103637519526, 72], ['7_1', 0.18312206830137276, 180], ['7_2', 0.7183098216110975, 111], ['7_3', 0.772398436030307, 97], ['7_4', 0, 1], ['7_5', 0, 1], ['7_6', 0, 1]], [['8_0', 0.6708561590207726, 91], ['8_1', 0.8775550760855518, 330], ['8_2', 0.9819407868640977, 114], ['8_3', 0.39124356362925566, 26], ['8_4', 0, 1], ['8_5', 0, 1], ['8_6', 0, 1]], [['9_0', 0.7461118858029694, 193], ['9_1', 0.9376640127671434, 257], ['9_2', 0.934068055375491, 80], ['9_3', 0.8935711016541907, 29], ['9_4', 0.8112781244591328, 8], ['9_5', 0, 1], ['9_6', 0, 1]]]\n"
     ]
    }
   ],
   "source": [
    "Entr=[]\n",
    "Entropy=[]\n",
    "Entropy_level1=[]\n",
    "for i in range(10):\n",
    "    #print(i)\n",
    "    Entropy=[]\n",
    "    for j in range(7):\n",
    "        Entr=[]\n",
    "        a=str(i)+\"_\"+str(j)\n",
    "        #print(a)\n",
    "        if(len(df_reducer_output_2[(df_reducer_output_2['key']==a)])==2):\n",
    "            #print(\"gf\")\n",
    "            #print(df[(df['hy']==a)])\n",
    "            lb1=int(df_reducer_output_2[(df_reducer_output_2['key']==a) & (df_reducer_output_2['Class']=='1')][1])\n",
    "            lb0=int(df_reducer_output_2[(df_reducer_output_2['key']==a) & (df_reducer_output_2['Class']=='0')][1])\n",
    "            #print(lb0,lb1)\n",
    "            x=lb0/(lb0+lb1)\n",
    "            y=lb1/(lb0+lb1)\n",
    "            e = -(x*math.log(x,2))-(y*math.log(y,2)) \n",
    "            Entr.append(a)\n",
    "            Entr.append(e)\n",
    "            Entr.append(lb1+lb0) \n",
    "            #print(Entr)\n",
    "        if(len(df_reducer_output_2[(df_reducer_output_2['key']==a)])<=1) and (len(df_reducer_output_2[(df_reducer_output_2['key']==a)])>0):     \n",
    "             lb=int(df_reducer_output_2[(df_reducer_output_2['key']==a)][1].tolist()[0])\n",
    "             c=int(df_reducer_output_2[(df_reducer_output_2['key']==a)]['Class'].tolist()[0])\n",
    "             e=0\n",
    "             Entr.append(a)   \n",
    "             Entr.append(e)\n",
    "             Entr.append(c)\n",
    "             #print(df[(df['hy']==a)]['hy'].tolist()[0],lb,c)   \n",
    "        Entropy.append(Entr) \n",
    "        #print(Entropy)\n",
    "    Entropy_level1.append(Entropy)\n",
    "print(Entropy_level1)\n",
    "            "
   ]
  },
  {
   "cell_type": "markdown",
   "metadata": {},
   "source": [
    "## Finding Weighted entropy of each Attribute :: Printing Min weigted entropy for each attribute : "
   ]
  },
  {
   "cell_type": "code",
   "execution_count": 27,
   "metadata": {},
   "outputs": [
    {
     "name": "stdout",
     "output_type": "stream",
     "text": [
      "Minimum weighted Entropy for feature 8 among other weighted entropies as shown below ::  0.34309238208617354\n"
     ]
    },
    {
     "data": {
      "text/plain": [
       "[0.35597229502778993,\n",
       " 0.7709573826753111,\n",
       " 0.3471207042501868,\n",
       " 0.38911005576217605,\n",
       " 0.8213939683658044,\n",
       " 0.6529487634490438,\n",
       " 0.5020412204858238,\n",
       " 0.34309238208617354,\n",
       " 0.8308517889911954,\n",
       " 0.8648655125040648]"
      ]
     },
     "execution_count": 27,
     "metadata": {},
     "output_type": "execute_result"
    }
   ],
   "source": [
    "# w=0\n",
    "avg=[]\n",
    "for i in range(10):\n",
    "        w=0\n",
    "        for j in Entropy_level1[i]:\n",
    "            w=w+(j[2]/569)*j[1]\n",
    "        avg.append(w)\n",
    "\n",
    "print(\"Minimum weighted Entropy for feature 8 among other weighted entropies as shown below :: \" ,min(avg))\n",
    "avg"
   ]
  },
  {
   "cell_type": "code",
   "execution_count": 31,
   "metadata": {},
   "outputs": [
    {
     "name": "stdout",
     "output_type": "stream",
     "text": [
      "## Looking into the entropy of splits by attribute 8 :: \n"
     ]
    },
    {
     "data": {
      "text/plain": [
       "[['7_0', 0.10559103637519526, 72],\n",
       " ['7_1', 0.18312206830137276, 180],\n",
       " ['7_2', 0.7183098216110975, 111],\n",
       " ['7_3', 0.772398436030307, 97],\n",
       " ['7_4', 0, 1],\n",
       " ['7_5', 0, 1],\n",
       " ['7_6', 0, 1]]"
      ]
     },
     "execution_count": 31,
     "metadata": {},
     "output_type": "execute_result"
    }
   ],
   "source": [
    "print(\"## Looking into the entropy of splits by attribute 8 :: \")\n",
    "Entropy_level1[7]"
   ]
  },
  {
   "cell_type": "markdown",
   "metadata": {},
   "source": [
    "## STAGE2 : Growing the Tree making Attribute 8 as the root node:\n",
    "\n",
    "### Task1 : Split the datasets as RDDs for all the values feature 8 would take. Here split0 indicates the data when feature 8 takes the value 0 and so on"
   ]
  },
  {
   "cell_type": "code",
   "execution_count": 32,
   "metadata": {},
   "outputs": [],
   "source": [
    "split0=csv_data.filter(lambda x:x[7]==\"0\")\n",
    "split1=csv_data.filter(lambda x:x[7]==\"1\")\n",
    "split2=csv_data.filter(lambda x:x[7]==\"2\")\n",
    "split3=csv_data.filter(lambda x:x[7]==\"3\")\n",
    "split4=csv_data.filter(lambda x:x[7]==\"4\")\n",
    "split5=csv_data.filter(lambda x:x[7]==\"5\")\n",
    "split6=csv_data.filter(lambda x:x[7]==\"6\")"
   ]
  },
  {
   "cell_type": "markdown",
   "metadata": {},
   "source": [
    "### Task2 : Find the entropy at each split with every other attribute. Each function is used in stage2 but generalized for all the cases."
   ]
  },
  {
   "cell_type": "code",
   "execution_count": 35,
   "metadata": {},
   "outputs": [],
   "source": [
    "def defining_key(line):\n",
    "    send=[]\n",
    "    for i in range(len(line)-1):\n",
    "        s=str(i)+\",\"+line[i]+\",\"+line[10]\n",
    "        send.append(s)              \n",
    "    return send    \n",
    "\n",
    "def Getting_Counts(dat):\n",
    "    data1 = dat.map(lambda create_labeled_point:(create_labeled_point[0:11]))\n",
    "    d=data1.flatMap(defining_key)\n",
    "    c=d.map(lambda x: (x, 1)).reduceByKey(lambda x, y: x + y)\n",
    "    return c\n",
    "def Get_Entropy(dat):\n",
    "    a_ = array(Getting_Counts(dat).collect())\n",
    "    df=pd.DataFrame(a_)\n",
    "    df[['Feature','Value','Class']] = df[0].str.split(',', expand=True)\n",
    "    df['key']=df['Feature']+\"_\"+df['Value']\n",
    "    Entr=[]\n",
    "    Entropy=[]\n",
    "    Entropy1=[]\n",
    "    for i in range(10):\n",
    "        #print(i)\n",
    "        Entropy=[]\n",
    "        for j in range(7):\n",
    "            Entr=[]\n",
    "            a=str(i)+\"_\"+str(j)\n",
    "            #print(a)\n",
    "            if(len(df[(df['key']==a)])==2):\n",
    "                lb1=int(df[(df['key']==a) & (df['Class']=='1')][1])\n",
    "                lb0=int(df[(df['key']==a) & (df['Class']=='0')][1])\n",
    "                #print(lb0,lb1)\n",
    "                x=lb0/(lb0+lb1)\n",
    "                y=lb1/(lb0+lb1)\n",
    "                e = -(x*math.log(x,2))-(y*math.log(y,2))\n",
    "                Entr.append(a)\n",
    "                Entr.append(e)\n",
    "                Entr.append(lb1+lb0)\n",
    "                Entr.append(dat.count())\n",
    "                if lb0>lb1:\n",
    "                    pred=0\n",
    "                    Entr.append(pred)\n",
    "                else:\n",
    "                    pred = 1\n",
    "                    Entr.append(pred)  \n",
    "            if(len(df[(df['key']==a)])<=1 and len(df[(df['key']==a)])>0): \n",
    "                 lb=int(df[(df['key']==a)][1].tolist()[0])\n",
    "                 c=int(df[(df['key']==a)]['Class'].tolist()[0])\n",
    "                 e=0\n",
    "                 Entr.append(a)   \n",
    "                 Entr.append(e)\n",
    "                 Entr.append(lb)  \n",
    "                 Entr.append(dat.count())\n",
    "                 Entr.append(c)  \n",
    "            Entropy.append(Entr) \n",
    "        Entropy1.append(Entropy)\n",
    "    return Entropy1\n",
    "    "
   ]
  },
  {
   "cell_type": "code",
   "execution_count": 36,
   "metadata": {},
   "outputs": [
    {
     "name": "stdout",
     "output_type": "stream",
     "text": [
      "[[['0_0', 0, 37, 72, 0], ['0_1', 0.18717625687320816, 35, 72, 0], [], [], [], [], []], [['1_0', 0, 14, 72, 0], ['1_1', 0, 30, 72, 0], ['1_2', 0.2974722489192897, 19, 72, 0], ['1_3', 0, 6, 72, 0], ['1_4', 0, 3, 72, 0], [], []], [['2_0', 0, 47, 72, 0], ['2_1', 0.24229218908241482, 25, 72, 0], [], [], [], [], []], [['3_0', 0.10559103637519526, 72, 72, 0], [], [], [], [], [], []], [['4_0', 0.37123232664087563, 14, 72, 0], ['4_1', 0, 32, 72, 0], ['4_2', 0, 20, 72, 0], ['4_3', 0, 5, 72, 0], ['4_4', 0, 1, 72, 0], [], []], [['5_0', 0.10802319526362833, 70, 72, 0], ['5_1', 0, 2, 72, 0], [], [], [], [], []], [['6_0', 0.10559103637519526, 72, 72, 0], [], [], [], [], [], []], [['7_0', 0.10559103637519526, 72, 72, 0], [], [], [], [], [], []], [['8_0', 0.2580186686648155, 23, 72, 0], ['8_1', 0, 45, 72, 0], ['8_2', 0, 4, 72, 0], [], [], [], []], [['9_0', 0.15109697051711368, 46, 72, 0], ['9_1', 0, 25, 72, 0], ['9_2', 0, 1, 72, 0], [], [], [], []]]\n"
     ]
    }
   ],
   "source": [
    "E0=Get_Entropy(split0)\n",
    "\n",
    "\n",
    "print(E0)"
   ]
  },
  {
   "cell_type": "code",
   "execution_count": 38,
   "metadata": {},
   "outputs": [],
   "source": [
    "E1=Get_Entropy(split1)"
   ]
  },
  {
   "cell_type": "code",
   "execution_count": 39,
   "metadata": {},
   "outputs": [],
   "source": [
    "E2=Get_Entropy(split2)"
   ]
  },
  {
   "cell_type": "code",
   "execution_count": 40,
   "metadata": {},
   "outputs": [],
   "source": [
    "E3=Get_Entropy(split3)"
   ]
  },
  {
   "cell_type": "code",
   "execution_count": 41,
   "metadata": {},
   "outputs": [],
   "source": [
    "E4=Get_Entropy(split4)"
   ]
  },
  {
   "cell_type": "code",
   "execution_count": 42,
   "metadata": {},
   "outputs": [],
   "source": [
    "E5=Get_Entropy(split5)"
   ]
  },
  {
   "cell_type": "code",
   "execution_count": 43,
   "metadata": {},
   "outputs": [],
   "source": [
    "E6=Get_Entropy(split6)"
   ]
  },
  {
   "cell_type": "markdown",
   "metadata": {},
   "source": [
    "## Task3 : Find Weighted Entropy at each split :: Returns the attribute with the minium entropy for each split"
   ]
  },
  {
   "cell_type": "code",
   "execution_count": 45,
   "metadata": {},
   "outputs": [],
   "source": [
    "# w=0\n",
    "\n",
    "def Weighted_Entropy(Dat):\n",
    "    avg=[]\n",
    "    for i in range(10):\n",
    "        #print(i)\n",
    "        w=0\n",
    "        list1= [x for x in Dat[i] if x]\n",
    "        for j in list1:\n",
    "            #print(j)\n",
    "            w=w+(j[2]/j[3])*j[1]\n",
    "            #print(w)  \n",
    "        avg.append(w)\n",
    "        #print(avg)\n",
    "    return avg\n",
    "#Entropy1[7]\n",
    "\n",
    "\n"
   ]
  },
  {
   "cell_type": "code",
   "execution_count": 46,
   "metadata": {},
   "outputs": [],
   "source": [
    "avg0=Weighted_Entropy(E0).index(min(Weighted_Entropy(E0)))\n",
    "avg1=Weighted_Entropy(E1).index(min(Weighted_Entropy(E1)))\n",
    "avg2=Weighted_Entropy(E2).index(min(Weighted_Entropy(E2)))\n",
    "avg3=Weighted_Entropy(E3).index(min(Weighted_Entropy(E3)))\n",
    "avg4=Weighted_Entropy(E4).index(min(Weighted_Entropy(E4)))\n",
    "avg5=Weighted_Entropy(E5).index(min(Weighted_Entropy(E5)))\n",
    "avg6=Weighted_Entropy(E6).index(min(Weighted_Entropy(E6)))"
   ]
  },
  {
   "cell_type": "code",
   "execution_count": 51,
   "metadata": {},
   "outputs": [
    {
     "name": "stdout",
     "output_type": "stream",
     "text": [
      "Weighted entropy is stored in this way for each split:\n"
     ]
    },
    {
     "data": {
      "text/plain": [
       "[0.09098845820225396,\n",
       " 0.07849962124259034,\n",
       " 0.08412923232028292,\n",
       " 0.10559103637519526,\n",
       " 0.0721840635135036,\n",
       " 0.10502255095074976,\n",
       " 0.10559103637519526,\n",
       " 0.10559103637519526,\n",
       " 0.08242263026792716,\n",
       " 0.09653417560815596]"
      ]
     },
     "execution_count": 51,
     "metadata": {},
     "output_type": "execute_result"
    }
   ],
   "source": [
    "print(\"Weighted entropy is stored in this way for each split:\")\n",
    "Weighted_Entropy(E0)"
   ]
  },
  {
   "cell_type": "code",
   "execution_count": 53,
   "metadata": {},
   "outputs": [
    {
     "name": "stdout",
     "output_type": "stream",
     "text": [
      "Best Feautures found for each splits (array positions) 4 2 0 0 0 0 0\n"
     ]
    }
   ],
   "source": [
    "print(\"Best Feautures found for each splits (array positions)\",avg0,avg1,avg2,avg3,avg4,avg5,avg6)"
   ]
  },
  {
   "cell_type": "markdown",
   "metadata": {},
   "source": [
    "## STAGE3 : Growing the Tree making Best attributes found in the earlier iterations:\n",
    "\n",
    "### For Split0 (ie., when feature_8 =0) Best attribute = 5(array position : 4)\n",
    "\n",
    "### For Split1 (ie., when feature_8 =1) Best attribute = 3(array position : 2)\n",
    "\n",
    "### For Split2 (ie., when feature_8 =2) Best attribute = 1(array position : 0)\n",
    "\n",
    "### For Split3 (ie., when feature_8 =3) Best attribute = 1(array position : 0)\n",
    "\n",
    "### For Split4 (ie., when feature_8 =4) Best attribute = 1(array position : 0)\n",
    "\n",
    "### For Split5 (ie., when feature_8 =5) Best attribute = 1(array position : 0)\n",
    "\n",
    "### For Split6 (ie., when feature_8 =6) Best attribute = 1(array position : 0)\n",
    "\n",
    "## Task1: Below are the RDDs for each of the branch further splists :: that is split00 - feature8 =0 and feature 5 =0 \n",
    "\n",
    "### Prepared from the RDDs of previous level"
   ]
  },
  {
   "cell_type": "code",
   "execution_count": null,
   "metadata": {},
   "outputs": [],
   "source": [
    "split00=split0.filter(lambda x:x[4]==\"0\")\n",
    "split01=split0.filter(lambda x:x[4]==\"1\")\n",
    "split02=split0.filter(lambda x:x[4]==\"2\")\n",
    "split03=split0.filter(lambda x:x[4]==\"3\")\n",
    "split04=split0.filter(lambda x:x[4]==\"4\")\n",
    "\n",
    "\n",
    "\n",
    "split10=split1.filter(lambda x:x[2]==\"0\")\n",
    "split11=split1.filter(lambda x:x[2]==\"1\")\n",
    "split12=split1.filter(lambda x:x[2]==\"2\")\n",
    "\n",
    "\n",
    "\n",
    "split20=split2.filter(lambda x:x[0]==\"0\")\n",
    "split21=split2.filter(lambda x:x[0]==\"1\")\n",
    "split22=split2.filter(lambda x:x[0]==\"2\")\n",
    "split23=split2.filter(lambda x:x[0]==\"3\")\n",
    "\n",
    "\n",
    "split30=split3.filter(lambda x:x[0]==\"0\")\n",
    "split31=split3.filter(lambda x:x[0]==\"1\")\n",
    "split32=split3.filter(lambda x:x[0]==\"2\")\n",
    "split33=split3.filter(lambda x:x[0]==\"3\")\n",
    "split34=split3.filter(lambda x:x[0]==\"4\")\n",
    "split35=split3.filter(lambda x:x[0]==\"5\")\n",
    "split36=split3.filter(lambda x:x[0]==\"6\")\n",
    "\n",
    "split41=split4.filter(lambda x:x[0]==\"1\")\n",
    "split42=split4.filter(lambda x:x[0]==\"2\")\n",
    "split43=split4.filter(lambda x:x[0]==\"3\")\n",
    "split44=split4.filter(lambda x:x[0]==\"4\")\n",
    "split45=split4.filter(lambda x:x[0]==\"5\")\n",
    "\n",
    "split51=split5.filter(lambda x:x[0]==\"1\")\n",
    "split52=split5.filter(lambda x:x[0]==\"2\")\n",
    "split53=split5.filter(lambda x:x[0]==\"3\")\n",
    "split54=split5.filter(lambda x:x[0]==\"4\")\n",
    "split55=split5.filter(lambda x:x[0]==\"5\")\n",
    "split56=split5.filter(lambda x:x[0]==\"6\")\n",
    "\n",
    "split62=split6.filter(lambda x:x[0]==\"2\")\n",
    "split64=split6.filter(lambda x:x[0]==\"4\")\n",
    "split65=split6.filter(lambda x:x[0]==\"5\")\n",
    "split66=split6.filter(lambda x:x[0]==\"6\")\n",
    "\n"
   ]
  },
  {
   "cell_type": "markdown",
   "metadata": {},
   "source": [
    "## Task2 : Finding entropy of each node in the level3"
   ]
  },
  {
   "cell_type": "code",
   "execution_count": 56,
   "metadata": {},
   "outputs": [],
   "source": [
    "E00=Get_Entropy(split00)\n",
    "E01=Get_Entropy(split01)\n",
    "E02=Get_Entropy(split02)\n",
    "E03=Get_Entropy(split03)\n",
    "E04=Get_Entropy(split04)"
   ]
  },
  {
   "cell_type": "code",
   "execution_count": 58,
   "metadata": {},
   "outputs": [],
   "source": [
    "E10=Get_Entropy(split10)\n",
    "E11=Get_Entropy(split11)\n",
    "E12=Get_Entropy(split12)"
   ]
  },
  {
   "cell_type": "code",
   "execution_count": 60,
   "metadata": {},
   "outputs": [],
   "source": [
    "E20=Get_Entropy(split20)\n",
    "E21=Get_Entropy(split21)\n",
    "E22=Get_Entropy(split22)\n",
    "E23=Get_Entropy(split23)"
   ]
  },
  {
   "cell_type": "code",
   "execution_count": 62,
   "metadata": {},
   "outputs": [],
   "source": [
    "E30=Get_Entropy(split30)\n",
    "E31=Get_Entropy(split31)\n",
    "E32=Get_Entropy(split32)\n",
    "E33=Get_Entropy(split33)\n",
    "E34=Get_Entropy(split34)\n",
    "E35=Get_Entropy(split35)\n",
    "E36=Get_Entropy(split36)"
   ]
  },
  {
   "cell_type": "code",
   "execution_count": 63,
   "metadata": {},
   "outputs": [],
   "source": [
    "E41=Get_Entropy(split41)\n",
    "E42=Get_Entropy(split42)\n",
    "E43=Get_Entropy(split43)\n",
    "E44=Get_Entropy(split44)\n",
    "E45=Get_Entropy(split45)"
   ]
  },
  {
   "cell_type": "code",
   "execution_count": 65,
   "metadata": {},
   "outputs": [],
   "source": [
    "E51=Get_Entropy(split51)\n",
    "E52=Get_Entropy(split52)\n",
    "E53=Get_Entropy(split53)\n",
    "E54=Get_Entropy(split54)\n",
    "E55=Get_Entropy(split55)\n",
    "E56=Get_Entropy(split56)"
   ]
  },
  {
   "cell_type": "code",
   "execution_count": 67,
   "metadata": {},
   "outputs": [],
   "source": [
    "E62=Get_Entropy(split62)\n",
    "E64=Get_Entropy(split64)\n",
    "E65=Get_Entropy(split65)\n",
    "E66=Get_Entropy(split66)"
   ]
  },
  {
   "cell_type": "markdown",
   "metadata": {},
   "source": [
    "### Task3 : Finding Weighted Entropy of each node in the level3"
   ]
  },
  {
   "cell_type": "code",
   "execution_count": 68,
   "metadata": {},
   "outputs": [],
   "source": [
    "avg00=Weighted_Entropy(E00).index(min(Weighted_Entropy(E00)))\n",
    "avg01=Weighted_Entropy(E01).index(min(Weighted_Entropy(E01)))\n",
    "avg02=Weighted_Entropy(E02).index(min(Weighted_Entropy(E02)))\n",
    "avg03=Weighted_Entropy(E03).index(min(Weighted_Entropy(E03)))\n",
    "avg04=Weighted_Entropy(E04).index(min(Weighted_Entropy(E04)))\n",
    "\n",
    "avg10=Weighted_Entropy(E10).index(min(Weighted_Entropy(E10)))\n",
    "avg11=Weighted_Entropy(E11).index(min(Weighted_Entropy(E11)))\n",
    "avg12=Weighted_Entropy(E12).index(min(Weighted_Entropy(E12)))\n",
    "\n",
    "\n",
    "avg20=Weighted_Entropy(E20).index(min(Weighted_Entropy(E20)))\n",
    "avg21=Weighted_Entropy(E21).index(min(Weighted_Entropy(E21)))\n",
    "avg22=Weighted_Entropy(E22).index(min(Weighted_Entropy(E22)))\n",
    "avg23=Weighted_Entropy(E23).index(min(Weighted_Entropy(E23)))\n",
    "\n",
    "avg30=Weighted_Entropy(E30).index(min(Weighted_Entropy(E30)))\n",
    "avg31=Weighted_Entropy(E31).index(min(Weighted_Entropy(E31)))\n",
    "avg32=Weighted_Entropy(E32).index(min(Weighted_Entropy(E32)))\n",
    "avg33=Weighted_Entropy(E33).index(min(Weighted_Entropy(E33)))\n",
    "avg34=Weighted_Entropy(E34).index(min(Weighted_Entropy(E34)))\n",
    "avg35=Weighted_Entropy(E35).index(min(Weighted_Entropy(E35)))\n",
    "avg36=Weighted_Entropy(E36).index(min(Weighted_Entropy(E36)))\n",
    "\n",
    "\n",
    "avg41=Weighted_Entropy(E41).index(min(Weighted_Entropy(E41)))\n",
    "avg42=Weighted_Entropy(E42).index(min(Weighted_Entropy(E42)))\n",
    "avg43=Weighted_Entropy(E43).index(min(Weighted_Entropy(E43)))\n",
    "avg44=Weighted_Entropy(E44).index(min(Weighted_Entropy(E44)))\n",
    "avg45=Weighted_Entropy(E45).index(min(Weighted_Entropy(E45)))\n",
    "\n",
    "avg51=Weighted_Entropy(E51).index(min(Weighted_Entropy(E51)))\n",
    "avg52=Weighted_Entropy(E52).index(min(Weighted_Entropy(E52)))\n",
    "avg53=Weighted_Entropy(E53).index(min(Weighted_Entropy(E53)))\n",
    "avg54=Weighted_Entropy(E54).index(min(Weighted_Entropy(E54)))\n",
    "avg55=Weighted_Entropy(E55).index(min(Weighted_Entropy(E55)))\n",
    "avg56=Weighted_Entropy(E56).index(min(Weighted_Entropy(E56)))\n",
    "\n",
    "avg62=Weighted_Entropy(E62).index(min(Weighted_Entropy(E62)))\n",
    "avg64=Weighted_Entropy(E64).index(min(Weighted_Entropy(E64)))\n",
    "avg65=Weighted_Entropy(E65).index(min(Weighted_Entropy(E65)))\n",
    "avg66=Weighted_Entropy(E66).index(min(Weighted_Entropy(E66)))\n"
   ]
  },
  {
   "cell_type": "code",
   "execution_count": 71,
   "metadata": {},
   "outputs": [
    {
     "name": "stdout",
     "output_type": "stream",
     "text": [
      "Best Attributes for split00-split04 :: 1 0 0 0 0\n",
      "Best Attributes for split10-split12 :: 0 1 1\n",
      "Best Attributes for split20-split23 :: 0 1 1 0\n",
      "Best Attributes for split30-split36 :: 0 1 1 0 0 0 0\n",
      "Best Attributes for split41-split45 :: 0 0 0 0 0\n",
      "Best Attributes for split51-split56 :: 0 0 0 0 0 0\n",
      "Best Attributes for split62-split66 :: 0 0 0 0\n"
     ]
    }
   ],
   "source": [
    "print(\"Best Attributes for split00-split04 ::\",avg00,avg01,avg02,avg03,avg04)\n",
    "print(\"Best Attributes for split10-split12 ::\",avg10,avg11,avg12)\n",
    "print(\"Best Attributes for split20-split23 ::\",avg20,avg21,avg22,avg23)\n",
    "print(\"Best Attributes for split30-split36 ::\",avg30,avg31,avg32,avg33,avg34,avg35,avg36)\n",
    "print(\"Best Attributes for split41-split45 ::\",avg41,avg42,avg43,avg44,avg45)\n",
    "print(\"Best Attributes for split51-split56 ::\",avg51,avg52,avg53,avg54,avg55,avg56)\n",
    "print(\"Best Attributes for split62-split66 ::\",avg62,avg64,avg65,avg66)\n",
    "\n",
    "\n",
    "\n"
   ]
  },
  {
   "cell_type": "markdown",
   "metadata": {},
   "source": [
    "## STAGE 4: Predicting the model on Test data(20%):\n",
    "## The tree is written as the if else statements as below and the test data set is passed through to get predicted values"
   ]
  },
  {
   "cell_type": "code",
   "execution_count": 28,
   "metadata": {},
   "outputs": [],
   "source": [
    "\n",
    "Test_X=array(testData.collect())\n",
    "#td=pd.DataFrame(b)\n",
    "pred_=[]\n",
    "for row in b:\n",
    "    td=row\n",
    "    if int(td[7])==0:\n",
    "        pred==0\n",
    "    if int(td[7])==1:\n",
    "        if int(td[2])==2:\n",
    "            pred=1\n",
    "        else :\n",
    "            pred=0\n",
    "    if int(td[7])==2:\n",
    "        if int(td[0])==0:\n",
    "            pred=0\n",
    "        else:\n",
    "            pred = 1\n",
    "    if int(td[7])==3:\n",
    "        if int(td[0])==0 or int(td[0])==1:\n",
    "            pred=0\n",
    "        else:\n",
    "            pred=1\n",
    "    else:\n",
    "        pred=1\n",
    "    pred_.append(pred)        "
   ]
  },
  {
   "cell_type": "markdown",
   "metadata": {},
   "source": [
    "##### Please note that the performance metrics are calculated in the section(f) at the bottom of the notebook"
   ]
  },
  {
   "cell_type": "markdown",
   "metadata": {},
   "source": [
    "## b) The choice of parameters :\n",
    "* #### Impurity or Attribute Selection Method = \"Entropy\"\n",
    "* #### MaxDepth = 3 (Given)\n",
    "* #### Max Bins = 7"
   ]
  },
  {
   "cell_type": "markdown",
   "metadata": {},
   "source": [
    "## c) Notes and Any assumptions made :\n",
    "\n",
    "### * Assumptions carried from Assignment 4A:: Reasoning why only last 10 features are selected for dataset.\n",
    "* The first feature ID is not contributing to the model hence ignored.\n",
    "* The features captured as Worst measure represent the data better than just measure and Standard error. Hence I have used only the columns from 22 till the end as my feature set.: radius_worst,texture_worst,perimeter_worst,area_worst,smoothness_worst\tcompactness_worst,concavity_worst,concave points_worst,symmetry_worstfractal_dimension_worst.\n",
    "* I have validated the model on the other two sets (Mean and Standard Deviation) and found a better performance when I passed the worst_dimension features. You can look at the last section for the other runs.\n",
    "* The test errors are ::\n",
    "Mean : 0.097, SD : 0.141, Worst_ = 0.035( Smallest and hence the best gives the best features for model building)\n",
    "\n",
    "###  Assumptions for Assignment 4B and Comparision between 4A and 4B::\n",
    "* Considered the same bin size as that of the best bin size in Assignmnet4A. So each column is binned into 7 bins . This data preparation is done in excel vba. \n",
    "* As per the ID3 algorithm, each split of the branch is grown, this is different from CART where only one attribute split is expanded each time. This results in the difference of results while an API is used.\n",
    "* In general binning does decrease the performance as there is information loss when the actual values are being replaced by the  bin values.\n",
    "* The leaf nodes obtained at the depth 3 are not the pure nodees in some of the splits, the prediction class is estimated based on the majority class at that particular node. To improve the accuary the tree has to further constructed.\n"
   ]
  },
  {
   "cell_type": "markdown",
   "metadata": {},
   "source": [
    "## d) Validation and Train/Test Startegy Used:\n",
    "\n",
    " ### Used the k-fold cross validation to evaluate the skill of the decision tree algorithm being learnt in general. I used the value k = 5 and the 4th fold seemed to be the best split giving out the accuracy upto 92.4%( Look into assumptions for my understanding of the decline of performance)\n",
    " ### Used the criteria and split of that model in my program as parameters.\n",
    " ### max_depth is fixed, min_samples_leaf  and criteria: entropy\n",
    " \n",
    " ## Below is the code for Cross Validation employed. Ran on the feature_worst Measures only(Last 10 feature set)"
   ]
  },
  {
   "cell_type": "code",
   "execution_count": 8,
   "metadata": {},
   "outputs": [],
   "source": [
    "File = 'C:\\\\Users\\\\yandr\\\\OneDrive\\\\Desktop\\\\BigData\\\\spark\\\\New_Data.csv'\n",
    "\n",
    "df1 = pd.read_csv(File)\n",
    "\n",
    "Train,Test = train_test_split(df1, test_size=0.3)\n",
    "Data_X = Train.values[:,0:10]\n",
    "Data_Y = Train.values[:,10]\n",
    "\n",
    "X_Test=Test.values[:,0:10]\n",
    "Y_Test=Test.values[:,10]\n",
    "\n",
    "from sklearn.model_selection import KFold\n",
    "from sklearn.tree import DecisionTreeClassifier\n",
    "\n",
    "from sklearn.metrics import recall_score\n",
    "from sklearn.metrics import precision_score\n",
    "from sklearn.metrics import accuracy_score\n",
    "from sklearn.metrics import confusion_matrix"
   ]
  },
  {
   "cell_type": "code",
   "execution_count": 16,
   "metadata": {},
   "outputs": [],
   "source": [
    "kf = KFold(n_splits=5,random_state=None, shuffle=True)\n",
    "tree_fold = []\n",
    "acc_tree=[]\n",
    "prec_tree=[]\n",
    "rec_tree=[]\n",
    "\n",
    "def train_tree(X_train,X_test,Y_train,Y_test):\n",
    "   tree = DecisionTreeClassifier(criterion = \"entropy\",max_depth=3,random_state = 200)\n",
    "   tree.fit(X_train, Y_train)\n",
    "   pred=tree.predict(X_test)\n",
    "   tree_fold.append(tree)\n",
    "   acc_tree.append(accuracy_score(Y_test,pred))\n",
    "   prec_tree.append(precision_score(Y_test,pred,average= 'macro'))\n",
    "   rec_tree.append(recall_score(Y_test,pred,average= 'macro')) \n",
    "   return\n",
    "\n",
    "for train_index, test_index in kf.split(Data_X):\n",
    "  #print(\"TRAIN:\", train_index, \"TEST:\", test_index)\n",
    "  X_train, X_test = Data_X[train_index], Data_X[test_index]\n",
    "  Y_train, Y_test = Data_Y[train_index], Data_Y[test_index]\n",
    "\n",
    "  train_tree(X_train,X_test,Y_train,Y_test)"
   ]
  },
  {
   "cell_type": "code",
   "execution_count": 17,
   "metadata": {},
   "outputs": [
    {
     "name": "stdout",
     "output_type": "stream",
     "text": [
      "Averge of the metrics:\n"
     ]
    },
    {
     "data": {
      "text/plain": [
       "([0.975, 0.9, 0.9113924050632911, 0.8734177215189873, 0.9493670886075949],\n",
       " [0.9733333333333334,\n",
       "  0.8946675444371297,\n",
       "  0.9152661064425771,\n",
       "  0.8722826086956521,\n",
       "  0.9446778711484594],\n",
       " [0.9733333333333334,\n",
       "  0.8946675444371297,\n",
       "  0.8985215053763441,\n",
       "  0.8415242165242165,\n",
       "  0.9446778711484594])"
      ]
     },
     "execution_count": 17,
     "metadata": {},
     "output_type": "execute_result"
    }
   ],
   "source": [
    "acc_tree,prec_tree,rec_tree\n",
    "#Calculating the average Performances:\n",
    "Avg_acc_tree= sum(acc_tree)/len(acc_tree)\n",
    "Avg_prec_tree= sum(prec_tree)/len(prec_tree)\n",
    "Avg_rec_tree= sum(rec_tree)/len(rec_tree)\n",
    "\n",
    "print(\"Averge of the metrics:\")\n",
    "\n",
    "Avg_acc_tree,Avg_prec_tree,Avg_rec_tree\n",
    "acc_tree,prec_tree,rec_tree\n"
   ]
  },
  {
   "cell_type": "code",
   "execution_count": 18,
   "metadata": {},
   "outputs": [
    {
     "name": "stdout",
     "output_type": "stream",
     "text": [
      "Performance Using the best Fold:\n",
      "Accuracy = 0.9239766081871345 Precision = [0.91964286 0.93220339] Recall = [0.96261682 0.859375  ]\n",
      "Confusion Matrix =\n",
      "[[103   4]\n",
      " [  9  55]]\n"
     ]
    }
   ],
   "source": [
    "pred_tree=tree_fold[3].predict(X_Test)\n",
    "c_tree=confusion_matrix(Y_Test, pred_tree, labels=None, sample_weight=None)\n",
    "acc_tree=accuracy_score(Y_Test,pred_tree)\n",
    "prec_tree=precision_score(Y_Test,pred_tree,average= None)\n",
    "rec_tree=recall_score(Y_Test,pred_tree,average= None)\n",
    "print(\"Performance Using the best Fold:\")\n",
    "\n",
    "print(\"Accuracy =\",acc_tree,\"Precision =\",prec_tree,\"Recall =\" ,rec_tree)\n",
    "\n",
    "print(\"Confusion Matrix =\")\n",
    "print(c_tree)"
   ]
  },
  {
   "cell_type": "markdown",
   "metadata": {},
   "source": [
    "## e) Decision tree Obtained: model is built in the pyspark. Look above for section a) for code\n",
    "\n",
    "####  * Please note that the features used are the last 10 features (Worst measure) from the dataset."
   ]
  },
  {
   "cell_type": "code",
   "execution_count": 44,
   "metadata": {},
   "outputs": [
    {
     "name": "stdout",
     "output_type": "stream",
     "text": [
      "Feature 7\n",
      "├── Best Attr: Feature 4 (Data Based on: Feature7=0)\n",
      "│   ├── Best Attr: Feature 1 (Data Based on: Feature4=0)\n",
      "│   │   └── Predict Label=0 \n",
      "│   ├── Best Attr: Feature 0 (Data Based on: Feature4=1)\n",
      "│   │   └── Predict Label=0 \n",
      "│   ├── Best Attr: Feature 0 (Data Based on: Feature4=2)\n",
      "│   │   └── Predict Label=0 \n",
      "│   └── Best Attr: Feature 0 (Data Based on: Feature4=3)\n",
      "│       └── Predict Label=0 \n",
      "├── Best Attr: Feature 2 (Data Based on: Feature7=1)\n",
      "│   ├── Best Attr: Feature 0 (Data Based on: Feature2=0)\n",
      "│   │   └── Predict Label=0 \n",
      "│   ├── Best Attr: Feature 1 (Data Based on: Feature2=1)\n",
      "│   │   └── Predict Label=0 \n",
      "│   └── Best Attr: Feature 1 (Data Based on: Feature2=2)\n",
      "│       └── Predict Label=1 \n",
      "├── Best Attr: Feature 0 (Data Based on: Feature7=2)\n",
      "│   ├── Best Attr: Feature 0 (Data Based on: Feature0=0)\n",
      "│   │   └── Predict Label=0 \n",
      "│   ├── Best Attr: Feature 1 (Data Based on: Feature0=1)\n",
      "│   │   └── Predict Label=0 \n",
      "│   ├── Best Attr: Feature 1 (Data Based on: Feature0=2)\n",
      "│   │   └── Predict Label=0 \n",
      "│   └── Best Attr: Feature 0 (Data Based on: Feature0=3)\n",
      "│       └── Predict Label=1 \n",
      "├── Best Attr: Feature 0 (Data Based on: Feature7=3)\n",
      "│   ├── Best Attr: Feature 0 (Data Based on: Feature0=0)\n",
      "│   │   └── Predict Label=0 \n",
      "│   ├── Best Attr: Feature 1 (Data Based on: Feature0=1)\n",
      "│   │   └── Predict Label=0 \n",
      "│   ├── Best Attr: Feature 1 (Data Based on: Feature0=2)\n",
      "│   │   └── Predict Label=1 \n",
      "│   ├── Best Attr: Feature 0 (Data Based on: Feature0=3)\n",
      "│   │   └── Predict Label=1 \n",
      "│   ├── Best Attr: Feature 0 (Data Based on: Feature0=4)\n",
      "│   │   └── Predict Label=1 \n",
      "│   ├── Best Attr: Feature 0 (Data Based on: Feature0=5)\n",
      "│   │   └── Predict Label=1 \n",
      "│   └── Best Attr: Feature 0 (Data Based on: Feature0=6)\n",
      "│       └── Predict Label=1 \n",
      "├── Best Attr: Feature 0 (Data Based on: Feature7=4)\n",
      "│   ├── Best Attr: Feature 0 (Data Based on: Feature0=1)\n",
      "│   │   └── Predict Label=1 \n",
      "│   ├── Best Attr: Feature 0 (Data Based on: Feature0=2)\n",
      "│   │   └── Predict Label=1 \n",
      "│   ├── Best Attr: Feature 0 (Data Based on: Feature0=3)\n",
      "│   │   └── Predict Label=1 \n",
      "│   ├── Best Attr: Feature 0 (Data Based on: Feature0=4)\n",
      "│   │   └── Predict Label=1 \n",
      "│   └── Best Attr: Feature 0 (Data Based on: Feature0=5)\n",
      "│       └── Predict Label=1 \n",
      "├── Best Attr: Feature 0 (Data Based on: Feature7=5)\n",
      "│   ├── Best Attr: Feature 0 (Data Based on: Feature0=1)\n",
      "│   │   └── Predict Label=1 \n",
      "│   ├── Best Attr: Feature 0 (Data Based on: Feature0=2)\n",
      "│   │   └── Predict Label=1 \n",
      "│   ├── Best Attr: Feature 0 (Data Based on: Feature0=3)\n",
      "│   │   └── Predict Label=1 \n",
      "│   ├── Best Attr: Feature 0 (Data Based on: Feature0=4)\n",
      "│   │   └── Predict Label=1 \n",
      "│   ├── Best Attr: Feature 0 (Data Based on: Feature0=5)\n",
      "│   │   └── Predict Label=1 \n",
      "│   └── Best Attr: Feature 0 (Data Based on: Feature0=6)\n",
      "│       └── Predict Label=1 \n",
      "└── Best Attr: Feature 0 (Data Based on: Feature7=6)\n",
      "    ├── Best Attr: Feature 0 (Data Based on: Feature0=2)\n",
      "    │   └── Predict Label=1 \n",
      "    ├── Best Attr: Feature 0 (Data Based on: Feature0=4)\n",
      "    │   └── Predict Label=1 \n",
      "    ├── Best Attr: Feature 0 (Data Based on: Feature0=5)\n",
      "    │   └── Predict Label=1 \n",
      "    └── Best Attr: Feature 0 (Data Based on: Feature0=6)\n",
      "        └── Predict Label=1 \n"
     ]
    }
   ],
   "source": [
    "#!pip install anytree\n",
    "from anytree import Node, RenderTree\n",
    "\n",
    "level1 = Node(\"Feature 7\")\n",
    "level2_0 = Node(\"Best Attr: Feature 4 (Data Based on: Feature7=0)\", parent=level1)\n",
    "level2_1 = Node(\"Best Attr: Feature 2 (Data Based on: Feature7=1)\", parent=level1)\n",
    "level2_2 = Node(\"Best Attr: Feature 0 (Data Based on: Feature7=2)\", parent=level1)\n",
    "level2_3 = Node(\"Best Attr: Feature 0 (Data Based on: Feature7=3)\", parent=level1)\n",
    "level2_4 = Node(\"Best Attr: Feature 0 (Data Based on: Feature7=4)\", parent=level1)\n",
    "level2_5 = Node(\"Best Attr: Feature 0 (Data Based on: Feature7=5)\", parent=level1)\n",
    "level2_6 = Node(\"Best Attr: Feature 0 (Data Based on: Feature7=6)\", parent=level1)\n",
    "\n",
    "level3_0_0 = Node(\"Best Attr: Feature 1 (Data Based on: Feature4=0)\", parent=level2_0)\n",
    "level3_0_1 = Node(\"Best Attr: Feature 0 (Data Based on: Feature4=1)\", parent=level2_0)\n",
    "level3_0_2 = Node(\"Best Attr: Feature 0 (Data Based on: Feature4=2)\", parent=level2_0)\n",
    "level3_0_3 = Node(\"Best Attr: Feature 0 (Data Based on: Feature4=3)\", parent=level2_0)\n",
    "\n",
    "level3_0_0_p = Node(\"Predict Label=0 \", parent=level3_0_0)\n",
    "level3_0_1_p = Node(\"Predict Label=0 \", parent=level3_0_1)\n",
    "level3_0_2_p = Node(\"Predict Label=0 \", parent=level3_0_2)\n",
    "level3_0_3_p = Node(\"Predict Label=0 \", parent=level3_0_3)\n",
    "\n",
    "level3_1_0 = Node(\"Best Attr: Feature 0 (Data Based on: Feature2=0)\", parent=level2_1)\n",
    "level3_1_1 = Node(\"Best Attr: Feature 1 (Data Based on: Feature2=1)\", parent=level2_1)\n",
    "level3_1_2 = Node(\"Best Attr: Feature 1 (Data Based on: Feature2=2)\", parent=level2_1)\n",
    "\n",
    "level3_1_0_p = Node(\"Predict Label=0 \", parent=level3_1_0)\n",
    "level3_1_1_p = Node(\"Predict Label=0 \", parent=level3_1_1)\n",
    "level3_1_2_p = Node(\"Predict Label=1 \", parent=level3_1_2)\n",
    "\n",
    "level3_2_0 = Node(\"Best Attr: Feature 0 (Data Based on: Feature0=0)\", parent=level2_2)\n",
    "level3_2_1 = Node(\"Best Attr: Feature 1 (Data Based on: Feature0=1)\", parent=level2_2)\n",
    "level3_2_2 = Node(\"Best Attr: Feature 1 (Data Based on: Feature0=2)\", parent=level2_2)\n",
    "level3_2_3 = Node(\"Best Attr: Feature 0 (Data Based on: Feature0=3)\", parent=level2_2)\n",
    "\n",
    "\n",
    "level3_2_0_p = Node(\"Predict Label=0 \", parent=level3_2_0)\n",
    "level3_2_1_p = Node(\"Predict Label=0 \", parent=level3_2_1)\n",
    "level3_2_2_p = Node(\"Predict Label=0 \", parent=level3_2_2)\n",
    "level3_2_3_p = Node(\"Predict Label=1 \", parent=level3_2_3)\n",
    "\n",
    "\n",
    "level3_3_0 = Node(\"Best Attr: Feature 0 (Data Based on: Feature0=0)\", parent=level2_3)\n",
    "level3_3_1 = Node(\"Best Attr: Feature 1 (Data Based on: Feature0=1)\", parent=level2_3)\n",
    "level3_3_2 = Node(\"Best Attr: Feature 1 (Data Based on: Feature0=2)\", parent=level2_3)\n",
    "level3_3_3 = Node(\"Best Attr: Feature 0 (Data Based on: Feature0=3)\", parent=level2_3)\n",
    "level3_3_4 = Node(\"Best Attr: Feature 0 (Data Based on: Feature0=4)\", parent=level2_3)\n",
    "level3_3_5 = Node(\"Best Attr: Feature 0 (Data Based on: Feature0=5)\", parent=level2_3)\n",
    "level3_3_6 = Node(\"Best Attr: Feature 0 (Data Based on: Feature0=6)\", parent=level2_3)\n",
    "\n",
    "\n",
    "level3_3_0_p = Node(\"Predict Label=0 \", parent=level3_3_0)\n",
    "level3_3_1_p = Node(\"Predict Label=0 \", parent=level3_3_1)\n",
    "level3_3_2_p = Node(\"Predict Label=1 \", parent=level3_3_2)\n",
    "level3_3_3_p = Node(\"Predict Label=1 \", parent=level3_3_3)\n",
    "level3_3_4_p = Node(\"Predict Label=1 \", parent=level3_3_4)\n",
    "level3_3_5_p = Node(\"Predict Label=1 \", parent=level3_3_5)\n",
    "level3_3_6_p = Node(\"Predict Label=1 \", parent=level3_3_6)\n",
    "\n",
    "\n",
    "level3_4_1 = Node(\"Best Attr: Feature 0 (Data Based on: Feature0=1)\", parent=level2_4)\n",
    "level3_4_2 = Node(\"Best Attr: Feature 0 (Data Based on: Feature0=2)\", parent=level2_4)\n",
    "level3_4_3 = Node(\"Best Attr: Feature 0 (Data Based on: Feature0=3)\", parent=level2_4)\n",
    "level3_4_4 = Node(\"Best Attr: Feature 0 (Data Based on: Feature0=4)\", parent=level2_4)\n",
    "level3_4_5 = Node(\"Best Attr: Feature 0 (Data Based on: Feature0=5)\", parent=level2_4)\n",
    "\n",
    "\n",
    "level3_4_1_p = Node(\"Predict Label=1 \", parent=level3_4_1)\n",
    "level3_4_2_p = Node(\"Predict Label=1 \", parent=level3_4_2)\n",
    "level3_4_3_p = Node(\"Predict Label=1 \", parent=level3_4_3)\n",
    "level3_4_4_p = Node(\"Predict Label=1 \", parent=level3_4_4)\n",
    "level3_4_5_p = Node(\"Predict Label=1 \", parent=level3_4_5)\n",
    "\n",
    "level3_5_1 = Node(\"Best Attr: Feature 0 (Data Based on: Feature0=1)\", parent=level2_5)\n",
    "level3_5_2 = Node(\"Best Attr: Feature 0 (Data Based on: Feature0=2)\", parent=level2_5)\n",
    "level3_5_3 = Node(\"Best Attr: Feature 0 (Data Based on: Feature0=3)\", parent=level2_5)\n",
    "level3_5_4 = Node(\"Best Attr: Feature 0 (Data Based on: Feature0=4)\", parent=level2_5)\n",
    "level3_5_5 = Node(\"Best Attr: Feature 0 (Data Based on: Feature0=5)\", parent=level2_5)\n",
    "level3_5_6 = Node(\"Best Attr: Feature 0 (Data Based on: Feature0=6)\", parent=level2_5)\n",
    "\n",
    "level3_5_1_p = Node(\"Predict Label=1 \", parent=level3_5_1)\n",
    "level3_5_2_p = Node(\"Predict Label=1 \", parent=level3_5_2)\n",
    "level3_5_3_p = Node(\"Predict Label=1 \", parent=level3_5_3)\n",
    "level3_5_4_p = Node(\"Predict Label=1 \", parent=level3_5_4)\n",
    "level3_5_5_p = Node(\"Predict Label=1 \", parent=level3_5_5)\n",
    "level3_5_6_p = Node(\"Predict Label=1 \", parent=level3_5_6)\n",
    "\n",
    "level3_6_2 = Node(\"Best Attr: Feature 0 (Data Based on: Feature0=2)\", parent=level2_6)\n",
    "level3_6_4 = Node(\"Best Attr: Feature 0 (Data Based on: Feature0=4)\", parent=level2_6)\n",
    "level3_6_5 = Node(\"Best Attr: Feature 0 (Data Based on: Feature0=5)\", parent=level2_6)\n",
    "level3_6_6 = Node(\"Best Attr: Feature 0 (Data Based on: Feature0=6)\", parent=level2_6)\n",
    "\n",
    "level3_6_2_p = Node(\"Predict Label=1 \", parent=level3_6_2)\n",
    "level3_6_4_p = Node(\"Predict Label=1 \", parent=level3_6_4)\n",
    "level3_6_5_p = Node(\"Predict Label=1 \", parent=level3_6_5)\n",
    "level3_6_6_p = Node(\"Predict Label=1 \", parent=level3_6_6)\n",
    "\n",
    "for pre, fill, node in RenderTree(level1):\n",
    "    print(\"%s%s\" % (pre, node.name))"
   ]
  },
  {
   "cell_type": "markdown",
   "metadata": {},
   "source": [
    "## f) Performance shown by the confusion matrix :"
   ]
  },
  {
   "cell_type": "code",
   "execution_count": 47,
   "metadata": {},
   "outputs": [
    {
     "name": "stdout",
     "output_type": "stream",
     "text": [
      "Confusion Matrix:\n",
      "[[51 10]\n",
      " [ 5 36]]\n",
      "Accuracy: 0.8529411764705882\n",
      "Precision: 0.8780487804878049\n",
      "Recall: 0.8780487804878049\n"
     ]
    }
   ],
   "source": [
    "from sklearn.metrics import recall_score\n",
    "from sklearn.metrics import precision_score\n",
    "from sklearn.metrics import accuracy_score\n",
    "from sklearn.metrics import confusion_matrix\n",
    "\n",
    "a=Test_X[:,10]\n",
    "\n",
    "actual=np.array(list(map(int, a)))\n",
    "\n",
    "\n",
    "c_tree=confusion_matrix(actual1,actual, labels=None, sample_weight=None)\n",
    "print(\"Confusion Matrix:\")\n",
    "print(c_tree)\n",
    "\n",
    "acc_tree=accuracy_score(actual,actual1)\n",
    "print(\"Accuracy:\",acc_tree)\n",
    "\n",
    "prec_tree=precision_score(actual,actual1,sample_weight=None)\n",
    "print(\"Precision:\",prec_tree)\n",
    "\n",
    "rec_tree=recall_score(actual1,actual)\n",
    "print(\"Recall:\",rec_tree)\n",
    "\n"
   ]
  },
  {
   "cell_type": "markdown",
   "metadata": {},
   "source": [
    "## References:\n",
    "\n",
    "https://pypi.org/project/anytree/"
   ]
  },
  {
   "cell_type": "code",
   "execution_count": null,
   "metadata": {},
   "outputs": [],
   "source": []
  }
 ],
 "metadata": {
  "kernelspec": {
   "display_name": "Python 3",
   "language": "python",
   "name": "python3"
  },
  "language_info": {
   "codemirror_mode": {
    "name": "ipython",
    "version": 3
   },
   "file_extension": ".py",
   "mimetype": "text/x-python",
   "name": "python",
   "nbconvert_exporter": "python",
   "pygments_lexer": "ipython3",
   "version": "3.6.5"
  }
 },
 "nbformat": 4,
 "nbformat_minor": 2
}
